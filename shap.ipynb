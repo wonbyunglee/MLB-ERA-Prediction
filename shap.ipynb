{
 "cells": [
  {
   "cell_type": "code",
   "execution_count": 2,
   "metadata": {},
   "outputs": [
    {
     "name": "stdout",
     "output_type": "stream",
     "text": [
      "Collecting shap\n",
      "  Downloading shap-0.46.0-cp311-cp311-win_amd64.whl.metadata (25 kB)\n",
      "Requirement already satisfied: numpy in c:\\users\\co279\\appdata\\local\\programs\\python\\python311\\lib\\site-packages (from shap) (1.26.4)\n",
      "Requirement already satisfied: scipy in c:\\users\\co279\\appdata\\local\\programs\\python\\python311\\lib\\site-packages (from shap) (1.10.1)\n",
      "Requirement already satisfied: scikit-learn in c:\\users\\co279\\appdata\\local\\programs\\python\\python311\\lib\\site-packages (from shap) (1.5.0)\n",
      "Requirement already satisfied: pandas in c:\\users\\co279\\appdata\\local\\programs\\python\\python311\\lib\\site-packages (from shap) (1.5.3)\n",
      "Requirement already satisfied: tqdm>=4.27.0 in c:\\users\\co279\\appdata\\local\\programs\\python\\python311\\lib\\site-packages (from shap) (4.66.1)\n",
      "Requirement already satisfied: packaging>20.9 in c:\\users\\co279\\appdata\\local\\programs\\python\\python311\\lib\\site-packages (from shap) (23.2)\n",
      "Collecting slicer==0.0.8 (from shap)\n",
      "  Downloading slicer-0.0.8-py3-none-any.whl.metadata (4.0 kB)\n",
      "Collecting numba (from shap)\n",
      "  Downloading numba-0.61.0-cp311-cp311-win_amd64.whl.metadata (2.8 kB)\n",
      "Collecting cloudpickle (from shap)\n",
      "  Downloading cloudpickle-3.1.1-py3-none-any.whl.metadata (7.1 kB)\n",
      "Requirement already satisfied: colorama in c:\\users\\co279\\appdata\\local\\programs\\python\\python311\\lib\\site-packages (from tqdm>=4.27.0->shap) (0.4.6)\n",
      "Collecting llvmlite<0.45,>=0.44.0dev0 (from numba->shap)\n",
      "  Downloading llvmlite-0.44.0-cp311-cp311-win_amd64.whl.metadata (5.0 kB)\n",
      "Requirement already satisfied: python-dateutil>=2.8.1 in c:\\users\\co279\\appdata\\local\\programs\\python\\python311\\lib\\site-packages (from pandas->shap) (2.8.2)\n",
      "Requirement already satisfied: pytz>=2020.1 in c:\\users\\co279\\appdata\\local\\programs\\python\\python311\\lib\\site-packages (from pandas->shap) (2023.3)\n",
      "Requirement already satisfied: joblib>=1.2.0 in c:\\users\\co279\\appdata\\local\\programs\\python\\python311\\lib\\site-packages (from scikit-learn->shap) (1.4.2)\n",
      "Requirement already satisfied: threadpoolctl>=3.1.0 in c:\\users\\co279\\appdata\\local\\programs\\python\\python311\\lib\\site-packages (from scikit-learn->shap) (3.5.0)\n",
      "Requirement already satisfied: six>=1.5 in c:\\users\\co279\\appdata\\local\\programs\\python\\python311\\lib\\site-packages (from python-dateutil>=2.8.1->pandas->shap) (1.16.0)\n",
      "Downloading shap-0.46.0-cp311-cp311-win_amd64.whl (456 kB)\n",
      "Downloading slicer-0.0.8-py3-none-any.whl (15 kB)\n",
      "Downloading cloudpickle-3.1.1-py3-none-any.whl (20 kB)\n",
      "Downloading numba-0.61.0-cp311-cp311-win_amd64.whl (2.8 MB)\n",
      "   ---------------------------------------- 0.0/2.8 MB ? eta -:--:--\n",
      "   --------------------------------- ------ 2.4/2.8 MB 12.2 MB/s eta 0:00:01\n",
      "   ---------------------------------------- 2.8/2.8 MB 10.9 MB/s eta 0:00:00\n",
      "Downloading llvmlite-0.44.0-cp311-cp311-win_amd64.whl (30.3 MB)\n",
      "   ---------------------------------------- 0.0/30.3 MB ? eta -:--:--\n",
      "   - -------------------------------------- 0.8/30.3 MB 4.8 MB/s eta 0:00:07\n",
      "   ---- ----------------------------------- 3.1/30.3 MB 9.2 MB/s eta 0:00:03\n",
      "   ------- -------------------------------- 5.8/30.3 MB 10.4 MB/s eta 0:00:03\n",
      "   ---------- ----------------------------- 8.1/30.3 MB 10.7 MB/s eta 0:00:03\n",
      "   -------------- ------------------------- 10.7/30.3 MB 11.0 MB/s eta 0:00:02\n",
      "   ----------------- ---------------------- 13.4/30.3 MB 11.2 MB/s eta 0:00:02\n",
      "   -------------------- ------------------- 15.7/30.3 MB 11.2 MB/s eta 0:00:02\n",
      "   ----------------------- ---------------- 18.1/30.3 MB 11.3 MB/s eta 0:00:02\n",
      "   --------------------------- ------------ 20.7/30.3 MB 11.4 MB/s eta 0:00:01\n",
      "   ------------------------------ --------- 23.1/30.3 MB 11.4 MB/s eta 0:00:01\n",
      "   --------------------------------- ------ 25.4/30.3 MB 11.5 MB/s eta 0:00:01\n",
      "   ------------------------------------ --- 28.0/30.3 MB 11.5 MB/s eta 0:00:01\n",
      "   ---------------------------------------  30.1/30.3 MB 11.5 MB/s eta 0:00:01\n",
      "   ---------------------------------------- 30.3/30.3 MB 11.0 MB/s eta 0:00:00\n",
      "Installing collected packages: slicer, llvmlite, cloudpickle, numba, shap\n",
      "Successfully installed cloudpickle-3.1.1 llvmlite-0.44.0 numba-0.61.0 shap-0.46.0 slicer-0.0.8\n",
      "Note: you may need to restart the kernel to use updated packages.\n"
     ]
    },
    {
     "name": "stderr",
     "output_type": "stream",
     "text": [
      "\n",
      "[notice] A new release of pip is available: 24.2 -> 24.3.1\n",
      "[notice] To update, run: python.exe -m pip install --upgrade pip\n"
     ]
    }
   ],
   "source": [
    "pip install shap"
   ]
  },
  {
   "cell_type": "code",
   "execution_count": 1,
   "metadata": {},
   "outputs": [
    {
     "name": "stderr",
     "output_type": "stream",
     "text": [
      "c:\\Users\\co279\\AppData\\Local\\Programs\\Python\\Python311\\Lib\\site-packages\\tqdm\\auto.py:21: TqdmWarning: IProgress not found. Please update jupyter and ipywidgets. See https://ipywidgets.readthedocs.io/en/stable/user_install.html\n",
      "  from .autonotebook import tqdm as notebook_tqdm\n"
     ]
    },
    {
     "name": "stdout",
     "output_type": "stream",
     "text": [
      "X_train.shape: (74, 4, 26)\n",
      "y_train.shape: (74, 1)\n",
      "Epoch 1/50\n",
      "1/1 [==============================] - 7s 7s/step - loss: 4.0097 - mse: 4.0097 - mae: 1.8184 - val_loss: 1.2117 - val_mse: 1.2117 - val_mae: 1.0484\n",
      "Epoch 2/50\n",
      "1/1 [==============================] - 0s 50ms/step - loss: 1.3414 - mse: 1.3414 - mae: 1.0400 - val_loss: 1.6779 - val_mse: 1.6779 - val_mae: 1.2760\n",
      "Epoch 3/50\n",
      "1/1 [==============================] - 0s 61ms/step - loss: 1.9182 - mse: 1.9182 - mae: 1.2953 - val_loss: 0.1468 - val_mse: 0.1468 - val_mae: 0.3342\n",
      "Epoch 4/50\n",
      "1/1 [==============================] - 0s 56ms/step - loss: 0.2202 - mse: 0.2202 - mae: 0.3766 - val_loss: 0.1068 - val_mse: 0.1068 - val_mae: 0.2875\n",
      "Epoch 5/50\n",
      "1/1 [==============================] - 0s 56ms/step - loss: 0.1795 - mse: 0.1795 - mae: 0.3676 - val_loss: 0.0136 - val_mse: 0.0136 - val_mae: 0.0980\n",
      "Epoch 6/50\n",
      "1/1 [==============================] - 0s 50ms/step - loss: 0.0750 - mse: 0.0750 - mae: 0.2197 - val_loss: 0.0161 - val_mse: 0.0161 - val_mae: 0.1003\n",
      "Epoch 7/50\n",
      "1/1 [==============================] - 0s 55ms/step - loss: 0.0751 - mse: 0.0751 - mae: 0.2063 - val_loss: 0.0504 - val_mse: 0.0504 - val_mae: 0.1981\n",
      "Epoch 8/50\n",
      "1/1 [==============================] - 0s 48ms/step - loss: 0.0778 - mse: 0.0778 - mae: 0.2324 - val_loss: 0.0153 - val_mse: 0.0153 - val_mae: 0.1028\n",
      "Epoch 9/50\n",
      "1/1 [==============================] - 0s 61ms/step - loss: 0.0405 - mse: 0.0405 - mae: 0.1500 - val_loss: 0.0116 - val_mse: 0.0116 - val_mae: 0.0954\n",
      "Epoch 10/50\n",
      "1/1 [==============================] - 0s 55ms/step - loss: 0.0421 - mse: 0.0421 - mae: 0.1577 - val_loss: 0.0096 - val_mse: 0.0096 - val_mae: 0.0844\n",
      "Epoch 11/50\n",
      "1/1 [==============================] - 0s 52ms/step - loss: 0.0291 - mse: 0.0291 - mae: 0.1352 - val_loss: 0.0288 - val_mse: 0.0288 - val_mae: 0.1418\n",
      "Epoch 12/50\n",
      "1/1 [==============================] - 0s 55ms/step - loss: 0.0364 - mse: 0.0364 - mae: 0.1548 - val_loss: 0.0252 - val_mse: 0.0252 - val_mae: 0.1412\n",
      "Epoch 13/50\n",
      "1/1 [==============================] - 0s 61ms/step - loss: 0.0472 - mse: 0.0472 - mae: 0.1808 - val_loss: 0.0087 - val_mse: 0.0087 - val_mae: 0.0792\n",
      "Epoch 14/50\n",
      "1/1 [==============================] - 0s 54ms/step - loss: 0.0256 - mse: 0.0256 - mae: 0.1262 - val_loss: 0.0164 - val_mse: 0.0164 - val_mae: 0.1069\n",
      "Epoch 15/50\n",
      "1/1 [==============================] - 0s 54ms/step - loss: 0.0230 - mse: 0.0230 - mae: 0.1160 - val_loss: 0.0112 - val_mse: 0.0112 - val_mae: 0.0907\n",
      "Epoch 16/50\n",
      "1/1 [==============================] - 0s 59ms/step - loss: 0.0283 - mse: 0.0283 - mae: 0.1411 - val_loss: 0.0068 - val_mse: 0.0068 - val_mae: 0.0630\n",
      "Epoch 17/50\n",
      "1/1 [==============================] - 0s 49ms/step - loss: 0.0170 - mse: 0.0170 - mae: 0.1028 - val_loss: 0.0460 - val_mse: 0.0460 - val_mae: 0.1957\n",
      "Epoch 18/50\n",
      "1/1 [==============================] - 0s 53ms/step - loss: 0.0426 - mse: 0.0426 - mae: 0.1685 - val_loss: 0.0333 - val_mse: 0.0333 - val_mae: 0.1619\n",
      "Epoch 19/50\n",
      "1/1 [==============================] - 0s 51ms/step - loss: 0.0370 - mse: 0.0370 - mae: 0.1487 - val_loss: 0.0072 - val_mse: 0.0072 - val_mae: 0.0707\n",
      "Epoch 20/50\n",
      "1/1 [==============================] - 0s 55ms/step - loss: 0.0167 - mse: 0.0167 - mae: 0.1068 - val_loss: 0.0064 - val_mse: 0.0064 - val_mae: 0.0669\n",
      "Epoch 21/50\n",
      "1/1 [==============================] - 0s 50ms/step - loss: 0.0247 - mse: 0.0247 - mae: 0.1242 - val_loss: 0.0179 - val_mse: 0.0179 - val_mae: 0.1089\n",
      "Epoch 22/50\n",
      "1/1 [==============================] - 0s 51ms/step - loss: 0.0201 - mse: 0.0201 - mae: 0.1113 - val_loss: 0.0124 - val_mse: 0.0124 - val_mae: 0.0897\n",
      "Epoch 23/50\n",
      "1/1 [==============================] - 0s 50ms/step - loss: 0.0186 - mse: 0.0186 - mae: 0.1068 - val_loss: 0.0081 - val_mse: 0.0081 - val_mae: 0.0779\n",
      "Epoch 24/50\n",
      "1/1 [==============================] - 0s 53ms/step - loss: 0.0387 - mse: 0.0387 - mae: 0.1619 - val_loss: 0.0070 - val_mse: 0.0070 - val_mae: 0.0725\n",
      "Epoch 25/50\n",
      "1/1 [==============================] - 0s 55ms/step - loss: 0.0269 - mse: 0.0269 - mae: 0.1324 - val_loss: 0.0209 - val_mse: 0.0209 - val_mae: 0.1255\n",
      "Epoch 26/50\n",
      "1/1 [==============================] - 0s 52ms/step - loss: 0.0189 - mse: 0.0189 - mae: 0.1084 - val_loss: 0.0129 - val_mse: 0.0129 - val_mae: 0.0873\n",
      "Epoch 27/50\n",
      "1/1 [==============================] - 0s 59ms/step - loss: 0.0184 - mse: 0.0184 - mae: 0.1047 - val_loss: 0.0046 - val_mse: 0.0046 - val_mae: 0.0583\n",
      "Epoch 28/50\n",
      "1/1 [==============================] - 0s 50ms/step - loss: 0.0245 - mse: 0.0245 - mae: 0.1306 - val_loss: 0.0053 - val_mse: 0.0053 - val_mae: 0.0624\n",
      "Epoch 29/50\n",
      "1/1 [==============================] - 0s 52ms/step - loss: 0.0271 - mse: 0.0271 - mae: 0.1342 - val_loss: 0.0149 - val_mse: 0.0149 - val_mae: 0.0927\n",
      "Epoch 30/50\n",
      "1/1 [==============================] - 0s 51ms/step - loss: 0.0170 - mse: 0.0170 - mae: 0.1062 - val_loss: 0.0191 - val_mse: 0.0191 - val_mae: 0.1146\n",
      "Epoch 31/50\n",
      "1/1 [==============================] - 0s 47ms/step - loss: 0.0144 - mse: 0.0144 - mae: 0.0896 - val_loss: 0.0077 - val_mse: 0.0077 - val_mae: 0.0702\n",
      "Epoch 32/50\n",
      "1/1 [==============================] - 0s 50ms/step - loss: 0.0142 - mse: 0.0142 - mae: 0.0941 - val_loss: 0.0047 - val_mse: 0.0047 - val_mae: 0.0558\n",
      "Epoch 33/50\n",
      "1/1 [==============================] - 0s 56ms/step - loss: 0.0230 - mse: 0.0230 - mae: 0.1226 - val_loss: 0.0083 - val_mse: 0.0083 - val_mae: 0.0708\n",
      "Epoch 34/50\n",
      "1/1 [==============================] - 0s 55ms/step - loss: 0.0114 - mse: 0.0114 - mae: 0.0897 - val_loss: 0.0300 - val_mse: 0.0300 - val_mae: 0.1553\n",
      "Epoch 35/50\n",
      "1/1 [==============================] - 0s 53ms/step - loss: 0.0166 - mse: 0.0166 - mae: 0.1026 - val_loss: 0.0303 - val_mse: 0.0303 - val_mae: 0.1529\n",
      "Epoch 36/50\n",
      "1/1 [==============================] - 0s 52ms/step - loss: 0.0162 - mse: 0.0162 - mae: 0.1017 - val_loss: 0.0092 - val_mse: 0.0092 - val_mae: 0.0681\n",
      "Epoch 37/50\n",
      "1/1 [==============================] - 0s 73ms/step - loss: 0.0124 - mse: 0.0124 - mae: 0.0910 - val_loss: 0.0087 - val_mse: 0.0087 - val_mae: 0.0655\n",
      "3/3 [==============================] - 1s 3ms/step\n"
     ]
    },
    {
     "name": "stderr",
     "output_type": "stream",
     "text": [
      "  0%|          | 0/74 [00:00<?, ?it/s]"
     ]
    },
    {
     "name": "stdout",
     "output_type": "stream",
     "text": [
      "1/1 [==============================] - 0s 27ms/step\n",
      "5213/5213 [==============================] - 17s 3ms/step\n"
     ]
    },
    {
     "name": "stderr",
     "output_type": "stream",
     "text": [
      "  1%|▏         | 1/74 [00:21<26:03, 21.42s/it]"
     ]
    },
    {
     "name": "stdout",
     "output_type": "stream",
     "text": [
      "1/1 [==============================] - 0s 26ms/step\n",
      "5213/5213 [==============================] - 17s 3ms/step\n"
     ]
    },
    {
     "name": "stderr",
     "output_type": "stream",
     "text": [
      "  3%|▎         | 2/74 [00:42<25:08, 20.96s/it]"
     ]
    },
    {
     "name": "stdout",
     "output_type": "stream",
     "text": [
      "1/1 [==============================] - 0s 31ms/step\n",
      "5213/5213 [==============================] - 17s 3ms/step\n"
     ]
    },
    {
     "name": "stderr",
     "output_type": "stream",
     "text": [
      "  4%|▍         | 3/74 [01:02<24:25, 20.64s/it]"
     ]
    },
    {
     "name": "stdout",
     "output_type": "stream",
     "text": [
      "1/1 [==============================] - 0s 26ms/step\n",
      "5213/5213 [==============================] - 16s 3ms/step\n"
     ]
    },
    {
     "name": "stderr",
     "output_type": "stream",
     "text": [
      "  5%|▌         | 4/74 [01:22<23:41, 20.30s/it]"
     ]
    },
    {
     "name": "stdout",
     "output_type": "stream",
     "text": [
      "1/1 [==============================] - 0s 30ms/step\n",
      "5213/5213 [==============================] - 16s 3ms/step\n"
     ]
    },
    {
     "name": "stderr",
     "output_type": "stream",
     "text": [
      "  7%|▋         | 5/74 [01:42<23:16, 20.24s/it]"
     ]
    },
    {
     "name": "stdout",
     "output_type": "stream",
     "text": [
      "1/1 [==============================] - 0s 29ms/step\n",
      "5213/5213 [==============================] - 17s 3ms/step\n"
     ]
    },
    {
     "name": "stderr",
     "output_type": "stream",
     "text": [
      "  8%|▊         | 6/74 [02:02<22:56, 20.25s/it]"
     ]
    },
    {
     "name": "stdout",
     "output_type": "stream",
     "text": [
      "1/1 [==============================] - 0s 33ms/step\n",
      "5213/5213 [==============================] - 17s 3ms/step\n"
     ]
    },
    {
     "name": "stderr",
     "output_type": "stream",
     "text": [
      "  9%|▉         | 7/74 [02:22<22:41, 20.31s/it]"
     ]
    },
    {
     "name": "stdout",
     "output_type": "stream",
     "text": [
      "1/1 [==============================] - 0s 26ms/step\n",
      "5213/5213 [==============================] - 17s 3ms/step\n"
     ]
    },
    {
     "name": "stderr",
     "output_type": "stream",
     "text": [
      " 11%|█         | 8/74 [02:43<22:26, 20.40s/it]"
     ]
    },
    {
     "name": "stdout",
     "output_type": "stream",
     "text": [
      "1/1 [==============================] - 0s 25ms/step\n",
      "5213/5213 [==============================] - 17s 3ms/step\n"
     ]
    },
    {
     "name": "stderr",
     "output_type": "stream",
     "text": [
      " 12%|█▏        | 9/74 [03:04<22:09, 20.46s/it]"
     ]
    },
    {
     "name": "stdout",
     "output_type": "stream",
     "text": [
      "1/1 [==============================] - 0s 25ms/step\n",
      "5213/5213 [==============================] - 17s 3ms/step\n"
     ]
    },
    {
     "name": "stderr",
     "output_type": "stream",
     "text": [
      " 14%|█▎        | 10/74 [03:24<21:56, 20.57s/it]"
     ]
    },
    {
     "name": "stdout",
     "output_type": "stream",
     "text": [
      "1/1 [==============================] - 0s 31ms/step\n",
      "5213/5213 [==============================] - 17s 3ms/step\n"
     ]
    },
    {
     "name": "stderr",
     "output_type": "stream",
     "text": [
      " 15%|█▍        | 11/74 [03:45<21:42, 20.68s/it]"
     ]
    },
    {
     "name": "stdout",
     "output_type": "stream",
     "text": [
      "1/1 [==============================] - 0s 38ms/step\n",
      "5213/5213 [==============================] - 17s 3ms/step\n"
     ]
    },
    {
     "name": "stderr",
     "output_type": "stream",
     "text": [
      " 16%|█▌        | 12/74 [04:06<21:26, 20.75s/it]"
     ]
    },
    {
     "name": "stdout",
     "output_type": "stream",
     "text": [
      "1/1 [==============================] - 0s 29ms/step\n",
      "5213/5213 [==============================] - 17s 3ms/step\n"
     ]
    },
    {
     "name": "stderr",
     "output_type": "stream",
     "text": [
      " 18%|█▊        | 13/74 [04:27<21:03, 20.71s/it]"
     ]
    },
    {
     "name": "stdout",
     "output_type": "stream",
     "text": [
      "1/1 [==============================] - 0s 25ms/step\n",
      "5213/5213 [==============================] - 17s 3ms/step\n"
     ]
    },
    {
     "name": "stderr",
     "output_type": "stream",
     "text": [
      " 19%|█▉        | 14/74 [04:48<20:41, 20.69s/it]"
     ]
    },
    {
     "name": "stdout",
     "output_type": "stream",
     "text": [
      "1/1 [==============================] - 0s 36ms/step\n",
      "5213/5213 [==============================] - 17s 3ms/step\n"
     ]
    },
    {
     "name": "stderr",
     "output_type": "stream",
     "text": [
      " 20%|██        | 15/74 [05:08<20:20, 20.69s/it]"
     ]
    },
    {
     "name": "stdout",
     "output_type": "stream",
     "text": [
      "1/1 [==============================] - 0s 32ms/step\n",
      "5213/5213 [==============================] - 17s 3ms/step\n"
     ]
    },
    {
     "name": "stderr",
     "output_type": "stream",
     "text": [
      " 22%|██▏       | 16/74 [05:29<20:02, 20.73s/it]"
     ]
    },
    {
     "name": "stdout",
     "output_type": "stream",
     "text": [
      "1/1 [==============================] - 0s 30ms/step\n",
      "5213/5213 [==============================] - 17s 3ms/step\n"
     ]
    },
    {
     "name": "stderr",
     "output_type": "stream",
     "text": [
      " 23%|██▎       | 17/74 [05:50<19:38, 20.67s/it]"
     ]
    },
    {
     "name": "stdout",
     "output_type": "stream",
     "text": [
      "1/1 [==============================] - 0s 29ms/step\n",
      "5213/5213 [==============================] - 17s 3ms/step\n"
     ]
    },
    {
     "name": "stderr",
     "output_type": "stream",
     "text": [
      " 24%|██▍       | 18/74 [06:10<19:18, 20.68s/it]"
     ]
    },
    {
     "name": "stdout",
     "output_type": "stream",
     "text": [
      "1/1 [==============================] - 0s 26ms/step\n",
      "5213/5213 [==============================] - 17s 3ms/step\n"
     ]
    },
    {
     "name": "stderr",
     "output_type": "stream",
     "text": [
      " 26%|██▌       | 19/74 [06:31<18:56, 20.66s/it]"
     ]
    },
    {
     "name": "stdout",
     "output_type": "stream",
     "text": [
      "1/1 [==============================] - 0s 28ms/step\n",
      "5213/5213 [==============================] - 17s 3ms/step\n"
     ]
    },
    {
     "name": "stderr",
     "output_type": "stream",
     "text": [
      " 27%|██▋       | 20/74 [06:51<18:28, 20.53s/it]"
     ]
    },
    {
     "name": "stdout",
     "output_type": "stream",
     "text": [
      "1/1 [==============================] - 0s 35ms/step\n",
      "5213/5213 [==============================] - 16s 3ms/step\n"
     ]
    },
    {
     "name": "stderr",
     "output_type": "stream",
     "text": [
      " 28%|██▊       | 21/74 [07:11<17:57, 20.32s/it]"
     ]
    },
    {
     "name": "stdout",
     "output_type": "stream",
     "text": [
      "1/1 [==============================] - 0s 25ms/step\n",
      "5213/5213 [==============================] - 16s 3ms/step\n"
     ]
    },
    {
     "name": "stderr",
     "output_type": "stream",
     "text": [
      " 30%|██▉       | 22/74 [07:31<17:29, 20.18s/it]"
     ]
    },
    {
     "name": "stdout",
     "output_type": "stream",
     "text": [
      "1/1 [==============================] - 0s 26ms/step\n",
      "5213/5213 [==============================] - 16s 3ms/step\n"
     ]
    },
    {
     "name": "stderr",
     "output_type": "stream",
     "text": [
      " 31%|███       | 23/74 [07:51<17:07, 20.15s/it]"
     ]
    },
    {
     "name": "stdout",
     "output_type": "stream",
     "text": [
      "1/1 [==============================] - 0s 28ms/step\n",
      "5213/5213 [==============================] - 16s 3ms/step\n"
     ]
    },
    {
     "name": "stderr",
     "output_type": "stream",
     "text": [
      " 32%|███▏      | 24/74 [08:11<16:43, 20.08s/it]"
     ]
    },
    {
     "name": "stdout",
     "output_type": "stream",
     "text": [
      "1/1 [==============================] - 0s 32ms/step\n",
      "5213/5213 [==============================] - 16s 3ms/step\n"
     ]
    },
    {
     "name": "stderr",
     "output_type": "stream",
     "text": [
      " 34%|███▍      | 25/74 [08:30<16:14, 19.90s/it]"
     ]
    },
    {
     "name": "stdout",
     "output_type": "stream",
     "text": [
      "1/1 [==============================] - 0s 24ms/step\n",
      "5213/5213 [==============================] - 16s 3ms/step\n"
     ]
    },
    {
     "name": "stderr",
     "output_type": "stream",
     "text": [
      " 35%|███▌      | 26/74 [08:50<15:59, 19.98s/it]"
     ]
    },
    {
     "name": "stdout",
     "output_type": "stream",
     "text": [
      "1/1 [==============================] - 0s 26ms/step\n",
      "5213/5213 [==============================] - 17s 3ms/step\n"
     ]
    },
    {
     "name": "stderr",
     "output_type": "stream",
     "text": [
      " 36%|███▋      | 27/74 [09:11<15:45, 20.11s/it]"
     ]
    },
    {
     "name": "stdout",
     "output_type": "stream",
     "text": [
      "1/1 [==============================] - 0s 53ms/step\n",
      "5213/5213 [==============================] - 17s 3ms/step\n"
     ]
    },
    {
     "name": "stderr",
     "output_type": "stream",
     "text": [
      " 38%|███▊      | 28/74 [09:32<15:33, 20.30s/it]"
     ]
    },
    {
     "name": "stdout",
     "output_type": "stream",
     "text": [
      "1/1 [==============================] - 0s 28ms/step\n",
      "5213/5213 [==============================] - 16s 3ms/step\n"
     ]
    },
    {
     "name": "stderr",
     "output_type": "stream",
     "text": [
      " 39%|███▉      | 29/74 [09:52<15:08, 20.20s/it]"
     ]
    },
    {
     "name": "stdout",
     "output_type": "stream",
     "text": [
      "1/1 [==============================] - 0s 32ms/step\n",
      "5213/5213 [==============================] - 17s 3ms/step\n"
     ]
    },
    {
     "name": "stderr",
     "output_type": "stream",
     "text": [
      " 41%|████      | 30/74 [10:12<14:53, 20.32s/it]"
     ]
    },
    {
     "name": "stdout",
     "output_type": "stream",
     "text": [
      "1/1 [==============================] - 0s 34ms/step\n",
      "5213/5213 [==============================] - 16s 3ms/step\n"
     ]
    },
    {
     "name": "stderr",
     "output_type": "stream",
     "text": [
      " 42%|████▏     | 31/74 [10:32<14:23, 20.08s/it]"
     ]
    },
    {
     "name": "stdout",
     "output_type": "stream",
     "text": [
      "1/1 [==============================] - 0s 25ms/step\n",
      "5213/5213 [==============================] - 16s 3ms/step\n"
     ]
    },
    {
     "name": "stderr",
     "output_type": "stream",
     "text": [
      " 43%|████▎     | 32/74 [10:51<13:57, 19.93s/it]"
     ]
    },
    {
     "name": "stdout",
     "output_type": "stream",
     "text": [
      "1/1 [==============================] - 0s 31ms/step\n",
      "5213/5213 [==============================] - 15s 3ms/step\n"
     ]
    },
    {
     "name": "stderr",
     "output_type": "stream",
     "text": [
      " 45%|████▍     | 33/74 [11:10<13:24, 19.63s/it]"
     ]
    },
    {
     "name": "stdout",
     "output_type": "stream",
     "text": [
      "1/1 [==============================] - 0s 26ms/step\n",
      "5213/5213 [==============================] - 16s 3ms/step\n"
     ]
    },
    {
     "name": "stderr",
     "output_type": "stream",
     "text": [
      " 46%|████▌     | 34/74 [11:30<13:05, 19.63s/it]"
     ]
    },
    {
     "name": "stdout",
     "output_type": "stream",
     "text": [
      "1/1 [==============================] - 0s 27ms/step\n",
      "5213/5213 [==============================] - 16s 3ms/step\n"
     ]
    },
    {
     "name": "stderr",
     "output_type": "stream",
     "text": [
      " 47%|████▋     | 35/74 [11:49<12:45, 19.62s/it]"
     ]
    },
    {
     "name": "stdout",
     "output_type": "stream",
     "text": [
      "1/1 [==============================] - 0s 28ms/step\n",
      "5213/5213 [==============================] - 16s 3ms/step\n"
     ]
    },
    {
     "name": "stderr",
     "output_type": "stream",
     "text": [
      " 49%|████▊     | 36/74 [12:09<12:26, 19.65s/it]"
     ]
    },
    {
     "name": "stdout",
     "output_type": "stream",
     "text": [
      "1/1 [==============================] - 0s 28ms/step\n",
      "5213/5213 [==============================] - 16s 3ms/step\n"
     ]
    },
    {
     "name": "stderr",
     "output_type": "stream",
     "text": [
      " 50%|█████     | 37/74 [12:29<12:07, 19.65s/it]"
     ]
    },
    {
     "name": "stdout",
     "output_type": "stream",
     "text": [
      "1/1 [==============================] - 0s 24ms/step\n",
      "5213/5213 [==============================] - 16s 3ms/step\n"
     ]
    },
    {
     "name": "stderr",
     "output_type": "stream",
     "text": [
      " 51%|█████▏    | 38/74 [12:49<11:54, 19.85s/it]"
     ]
    },
    {
     "name": "stdout",
     "output_type": "stream",
     "text": [
      "1/1 [==============================] - 0s 31ms/step\n",
      "5213/5213 [==============================] - 17s 3ms/step\n"
     ]
    },
    {
     "name": "stderr",
     "output_type": "stream",
     "text": [
      " 53%|█████▎    | 39/74 [13:11<11:52, 20.36s/it]"
     ]
    },
    {
     "name": "stdout",
     "output_type": "stream",
     "text": [
      "1/1 [==============================] - 0s 29ms/step\n",
      "5213/5213 [==============================] - 19s 4ms/step\n"
     ]
    },
    {
     "name": "stderr",
     "output_type": "stream",
     "text": [
      " 54%|█████▍    | 40/74 [13:35<12:10, 21.50s/it]"
     ]
    },
    {
     "name": "stdout",
     "output_type": "stream",
     "text": [
      "1/1 [==============================] - 0s 32ms/step\n",
      "5213/5213 [==============================] - 18s 3ms/step\n"
     ]
    },
    {
     "name": "stderr",
     "output_type": "stream",
     "text": [
      " 55%|█████▌    | 41/74 [13:57<11:57, 21.73s/it]"
     ]
    },
    {
     "name": "stdout",
     "output_type": "stream",
     "text": [
      "1/1 [==============================] - 0s 27ms/step\n",
      "5213/5213 [==============================] - 16s 3ms/step\n"
     ]
    },
    {
     "name": "stderr",
     "output_type": "stream",
     "text": [
      " 57%|█████▋    | 42/74 [14:17<11:19, 21.25s/it]"
     ]
    },
    {
     "name": "stdout",
     "output_type": "stream",
     "text": [
      "1/1 [==============================] - 0s 29ms/step\n",
      "5213/5213 [==============================] - 16s 3ms/step\n"
     ]
    },
    {
     "name": "stderr",
     "output_type": "stream",
     "text": [
      " 58%|█████▊    | 43/74 [14:37<10:42, 20.72s/it]"
     ]
    },
    {
     "name": "stdout",
     "output_type": "stream",
     "text": [
      "1/1 [==============================] - 0s 27ms/step\n",
      "5213/5213 [==============================] - 17s 3ms/step\n"
     ]
    },
    {
     "name": "stderr",
     "output_type": "stream",
     "text": [
      " 59%|█████▉    | 44/74 [14:57<10:20, 20.67s/it]"
     ]
    },
    {
     "name": "stdout",
     "output_type": "stream",
     "text": [
      "1/1 [==============================] - 0s 29ms/step\n",
      "5213/5213 [==============================] - 17s 3ms/step\n"
     ]
    },
    {
     "name": "stderr",
     "output_type": "stream",
     "text": [
      " 61%|██████    | 45/74 [15:18<09:58, 20.64s/it]"
     ]
    },
    {
     "name": "stdout",
     "output_type": "stream",
     "text": [
      "1/1 [==============================] - 0s 26ms/step\n",
      "5213/5213 [==============================] - 16s 3ms/step\n"
     ]
    },
    {
     "name": "stderr",
     "output_type": "stream",
     "text": [
      " 62%|██████▏   | 46/74 [15:38<09:31, 20.43s/it]"
     ]
    },
    {
     "name": "stdout",
     "output_type": "stream",
     "text": [
      "1/1 [==============================] - 0s 34ms/step\n",
      "5213/5213 [==============================] - 17s 3ms/step\n"
     ]
    },
    {
     "name": "stderr",
     "output_type": "stream",
     "text": [
      " 64%|██████▎   | 47/74 [15:59<09:17, 20.66s/it]"
     ]
    },
    {
     "name": "stdout",
     "output_type": "stream",
     "text": [
      "1/1 [==============================] - 0s 27ms/step\n",
      "5213/5213 [==============================] - 16s 3ms/step\n"
     ]
    },
    {
     "name": "stderr",
     "output_type": "stream",
     "text": [
      " 65%|██████▍   | 48/74 [16:18<08:47, 20.30s/it]"
     ]
    },
    {
     "name": "stdout",
     "output_type": "stream",
     "text": [
      "1/1 [==============================] - 0s 35ms/step\n",
      "5213/5213 [==============================] - 15s 3ms/step\n"
     ]
    },
    {
     "name": "stderr",
     "output_type": "stream",
     "text": [
      " 66%|██████▌   | 49/74 [16:37<08:16, 19.87s/it]"
     ]
    },
    {
     "name": "stdout",
     "output_type": "stream",
     "text": [
      "1/1 [==============================] - 0s 23ms/step\n",
      "5213/5213 [==============================] - 16s 3ms/step\n"
     ]
    },
    {
     "name": "stderr",
     "output_type": "stream",
     "text": [
      " 68%|██████▊   | 50/74 [16:57<07:57, 19.90s/it]"
     ]
    },
    {
     "name": "stdout",
     "output_type": "stream",
     "text": [
      "1/1 [==============================] - 0s 32ms/step\n",
      "5213/5213 [==============================] - 16s 3ms/step\n"
     ]
    },
    {
     "name": "stderr",
     "output_type": "stream",
     "text": [
      " 69%|██████▉   | 51/74 [17:17<07:33, 19.71s/it]"
     ]
    },
    {
     "name": "stdout",
     "output_type": "stream",
     "text": [
      "1/1 [==============================] - 0s 24ms/step\n",
      "5213/5213 [==============================] - 16s 3ms/step\n"
     ]
    },
    {
     "name": "stderr",
     "output_type": "stream",
     "text": [
      " 70%|███████   | 52/74 [17:36<07:12, 19.64s/it]"
     ]
    },
    {
     "name": "stdout",
     "output_type": "stream",
     "text": [
      "1/1 [==============================] - 0s 25ms/step\n",
      "5213/5213 [==============================] - 16s 3ms/step\n"
     ]
    },
    {
     "name": "stderr",
     "output_type": "stream",
     "text": [
      " 72%|███████▏  | 53/74 [17:56<06:53, 19.70s/it]"
     ]
    },
    {
     "name": "stdout",
     "output_type": "stream",
     "text": [
      "1/1 [==============================] - 0s 25ms/step\n",
      "5213/5213 [==============================] - 16s 3ms/step\n"
     ]
    },
    {
     "name": "stderr",
     "output_type": "stream",
     "text": [
      " 73%|███████▎  | 54/74 [18:15<06:32, 19.60s/it]"
     ]
    },
    {
     "name": "stdout",
     "output_type": "stream",
     "text": [
      "1/1 [==============================] - 0s 25ms/step\n",
      "5213/5213 [==============================] - 15s 3ms/step\n"
     ]
    },
    {
     "name": "stderr",
     "output_type": "stream",
     "text": [
      " 74%|███████▍  | 55/74 [18:34<06:09, 19.47s/it]"
     ]
    },
    {
     "name": "stdout",
     "output_type": "stream",
     "text": [
      "1/1 [==============================] - 0s 33ms/step\n",
      "5213/5213 [==============================] - 15s 3ms/step\n"
     ]
    },
    {
     "name": "stderr",
     "output_type": "stream",
     "text": [
      " 76%|███████▌  | 56/74 [18:53<05:47, 19.33s/it]"
     ]
    },
    {
     "name": "stdout",
     "output_type": "stream",
     "text": [
      "1/1 [==============================] - 0s 31ms/step\n",
      "5213/5213 [==============================] - 16s 3ms/step\n"
     ]
    },
    {
     "name": "stderr",
     "output_type": "stream",
     "text": [
      " 77%|███████▋  | 57/74 [19:14<05:33, 19.64s/it]"
     ]
    },
    {
     "name": "stdout",
     "output_type": "stream",
     "text": [
      "1/1 [==============================] - 0s 26ms/step\n",
      "5213/5213 [==============================] - 16s 3ms/step\n"
     ]
    },
    {
     "name": "stderr",
     "output_type": "stream",
     "text": [
      " 78%|███████▊  | 58/74 [19:34<05:15, 19.72s/it]"
     ]
    },
    {
     "name": "stdout",
     "output_type": "stream",
     "text": [
      "1/1 [==============================] - 0s 29ms/step\n",
      "5213/5213 [==============================] - 16s 3ms/step\n"
     ]
    },
    {
     "name": "stderr",
     "output_type": "stream",
     "text": [
      " 80%|███████▉  | 59/74 [19:54<04:57, 19.84s/it]"
     ]
    },
    {
     "name": "stdout",
     "output_type": "stream",
     "text": [
      "1/1 [==============================] - 0s 28ms/step\n",
      "5213/5213 [==============================] - 16s 3ms/step\n"
     ]
    },
    {
     "name": "stderr",
     "output_type": "stream",
     "text": [
      " 81%|████████  | 60/74 [20:14<04:37, 19.82s/it]"
     ]
    },
    {
     "name": "stdout",
     "output_type": "stream",
     "text": [
      "1/1 [==============================] - 0s 28ms/step\n",
      "5213/5213 [==============================] - 16s 3ms/step\n"
     ]
    },
    {
     "name": "stderr",
     "output_type": "stream",
     "text": [
      " 82%|████████▏ | 61/74 [20:33<04:17, 19.79s/it]"
     ]
    },
    {
     "name": "stdout",
     "output_type": "stream",
     "text": [
      "1/1 [==============================] - 0s 27ms/step\n",
      "5213/5213 [==============================] - 16s 3ms/step\n"
     ]
    },
    {
     "name": "stderr",
     "output_type": "stream",
     "text": [
      " 84%|████████▍ | 62/74 [20:53<03:57, 19.80s/it]"
     ]
    },
    {
     "name": "stdout",
     "output_type": "stream",
     "text": [
      "1/1 [==============================] - 0s 32ms/step\n",
      "5213/5213 [==============================] - 16s 3ms/step\n"
     ]
    },
    {
     "name": "stderr",
     "output_type": "stream",
     "text": [
      " 85%|████████▌ | 63/74 [21:13<03:36, 19.73s/it]"
     ]
    },
    {
     "name": "stdout",
     "output_type": "stream",
     "text": [
      "1/1 [==============================] - 0s 28ms/step\n",
      "5213/5213 [==============================] - 16s 3ms/step\n"
     ]
    },
    {
     "name": "stderr",
     "output_type": "stream",
     "text": [
      " 86%|████████▋ | 64/74 [21:32<03:17, 19.72s/it]"
     ]
    },
    {
     "name": "stdout",
     "output_type": "stream",
     "text": [
      "1/1 [==============================] - 0s 25ms/step\n",
      "5213/5213 [==============================] - 16s 3ms/step\n"
     ]
    },
    {
     "name": "stderr",
     "output_type": "stream",
     "text": [
      " 88%|████████▊ | 65/74 [21:52<02:57, 19.73s/it]"
     ]
    },
    {
     "name": "stdout",
     "output_type": "stream",
     "text": [
      "1/1 [==============================] - 0s 26ms/step\n",
      "5213/5213 [==============================] - 15s 3ms/step\n"
     ]
    },
    {
     "name": "stderr",
     "output_type": "stream",
     "text": [
      " 89%|████████▉ | 66/74 [22:11<02:36, 19.58s/it]"
     ]
    },
    {
     "name": "stdout",
     "output_type": "stream",
     "text": [
      "1/1 [==============================] - 0s 37ms/step\n",
      "5213/5213 [==============================] - 16s 3ms/step\n"
     ]
    },
    {
     "name": "stderr",
     "output_type": "stream",
     "text": [
      " 91%|█████████ | 67/74 [22:31<02:17, 19.64s/it]"
     ]
    },
    {
     "name": "stdout",
     "output_type": "stream",
     "text": [
      "1/1 [==============================] - 0s 26ms/step\n",
      "5213/5213 [==============================] - 16s 3ms/step\n"
     ]
    },
    {
     "name": "stderr",
     "output_type": "stream",
     "text": [
      " 92%|█████████▏| 68/74 [22:51<01:58, 19.76s/it]"
     ]
    },
    {
     "name": "stdout",
     "output_type": "stream",
     "text": [
      "1/1 [==============================] - 0s 25ms/step\n",
      "5213/5213 [==============================] - 16s 3ms/step\n"
     ]
    },
    {
     "name": "stderr",
     "output_type": "stream",
     "text": [
      " 93%|█████████▎| 69/74 [23:11<01:39, 19.80s/it]"
     ]
    },
    {
     "name": "stdout",
     "output_type": "stream",
     "text": [
      "1/1 [==============================] - 0s 25ms/step\n",
      "5213/5213 [==============================] - 17s 3ms/step\n"
     ]
    },
    {
     "name": "stderr",
     "output_type": "stream",
     "text": [
      " 95%|█████████▍| 70/74 [23:32<01:20, 20.19s/it]"
     ]
    },
    {
     "name": "stdout",
     "output_type": "stream",
     "text": [
      "1/1 [==============================] - 0s 26ms/step\n",
      "5213/5213 [==============================] - 16s 3ms/step\n"
     ]
    },
    {
     "name": "stderr",
     "output_type": "stream",
     "text": [
      " 96%|█████████▌| 71/74 [23:52<01:00, 20.12s/it]"
     ]
    },
    {
     "name": "stdout",
     "output_type": "stream",
     "text": [
      "1/1 [==============================] - 0s 25ms/step\n",
      "5213/5213 [==============================] - 16s 3ms/step\n"
     ]
    },
    {
     "name": "stderr",
     "output_type": "stream",
     "text": [
      " 97%|█████████▋| 72/74 [24:12<00:40, 20.02s/it]"
     ]
    },
    {
     "name": "stdout",
     "output_type": "stream",
     "text": [
      "1/1 [==============================] - 0s 27ms/step\n",
      "5213/5213 [==============================] - 16s 3ms/step\n"
     ]
    },
    {
     "name": "stderr",
     "output_type": "stream",
     "text": [
      " 99%|█████████▊| 73/74 [24:32<00:20, 20.16s/it]"
     ]
    },
    {
     "name": "stdout",
     "output_type": "stream",
     "text": [
      "1/1 [==============================] - 0s 27ms/step\n",
      "5213/5213 [==============================] - 17s 3ms/step\n"
     ]
    },
    {
     "name": "stderr",
     "output_type": "stream",
     "text": [
      "100%|██████████| 74/74 [24:53<00:00, 20.18s/it]\n"
     ]
    },
    {
     "name": "stdout",
     "output_type": "stream",
     "text": [
      "shap_values.shape: (74, 104)\n",
      "shap_mean.shape: (74, 26)\n",
      "X_train_2d.shape: (74, 26)\n",
      "len(features): 26\n"
     ]
    },
    {
     "data": {
      "image/png": "[encoded data removed]",
      "text/plain": [
       "<Figure size 800x950 with 2 Axes>"
      ]
     },
     "metadata": {},
     "output_type": "display_data"
    }
   ],
   "source": [
    "import pandas as pd\n",
    "import numpy as np\n",
    "from sklearn.preprocessing import MinMaxScaler\n",
    "import tensorflow as tf\n",
    "from tensorflow.keras.models import Model\n",
    "from tensorflow.keras.layers import Dense, Dropout, LayerNormalization, Flatten, MultiHeadAttention\n",
    "from sklearn.metrics import mean_squared_error, mean_absolute_error\n",
    "from tensorflow.keras.callbacks import EarlyStopping\n",
    "import shap\n",
    "\n",
    "# ==============================\n",
    "# 1) 데이터 불러오기 및 전처리\n",
    "# ==============================\n",
    "file_path = 'data/basic.csv'\n",
    "data = pd.read_csv(file_path)\n",
    "\n",
    "# 필요없는 컬럼 제거 (예: 'last_name, first_name')\n",
    "data = data.drop(columns=['last_name, first_name'])\n",
    "\n",
    "# 결측치 처리 (예: 0으로 대체)\n",
    "data = data.fillna(0)\n",
    "\n",
    "# 2020~2023년 데이터만 사용\n",
    "data = data[data['year'].isin([2020, 2021, 2022, 2023])]\n",
    "\n",
    "# 공통 player_id 추출\n",
    "player_ids_2020 = set(data[data['year'] == 2020]['player_id'].unique())\n",
    "player_ids_2021 = set(data[data['year'] == 2021]['player_id'].unique())\n",
    "player_ids_2022 = set(data[data['year'] == 2022]['player_id'].unique())\n",
    "player_ids_2023 = set(data[data['year'] == 2023]['player_id'].unique())\n",
    "common_player_ids = player_ids_2020 & player_ids_2021 & player_ids_2022 & player_ids_2023\n",
    "\n",
    "# 공통 player_id 데이터만 추출 후, 연도 기준 정렬\n",
    "common_data = data[data['player_id'].isin(common_player_ids)]\n",
    "common_data = common_data.sort_values(by=['player_id', 'year'])\n",
    "\n",
    "# 예측 대상: p_era\n",
    "# 모델에 쓰지 않을 컬럼: 'player_id', 'year', 'p_era'\n",
    "features = [col for col in common_data.columns if col not in ['player_id', 'year', 'p_era']]\n",
    "target = 'p_era'\n",
    "\n",
    "X = common_data[features].values  # (전체행 수, 26) 가정\n",
    "y = common_data[target].values\n",
    "\n",
    "# 스케일링\n",
    "scaler_X = MinMaxScaler()\n",
    "scaler_y = MinMaxScaler()\n",
    "\n",
    "X_scaled = scaler_X.fit_transform(X)\n",
    "y_scaled = scaler_y.fit_transform(y.reshape(-1, 1))\n",
    "\n",
    "# =======================================\n",
    "# 2) 시계열 시퀀스 형태 (batch, seq_len, feature_dim)\n",
    "# =======================================\n",
    "def create_sequences(X, seq_length):\n",
    "    \"\"\"\n",
    "    seq_length(=4) 개씩 순차적으로 분할하여 3D 텐서로 구성\n",
    "    \"\"\"\n",
    "    X_seq = []\n",
    "    num_players = len(X) // seq_length  # player별 4개씩 있다고 단순 가정\n",
    "    for i in range(num_players):\n",
    "        start_idx = i * seq_length\n",
    "        end_idx = start_idx + seq_length\n",
    "        seq_x = X[start_idx:end_idx]\n",
    "        X_seq.append(seq_x)\n",
    "    return np.array(X_seq)\n",
    "\n",
    "seq_length = 4\n",
    "X_seq = create_sequences(X_scaled, seq_length)\n",
    "y_seq = y_scaled[seq_length - 1::seq_length]  # 시퀀스의 마지막 시점 값만 타깃으로 사용\n",
    "\n",
    "X_train, y_train = X_seq, y_seq\n",
    "print(\"X_train.shape:\", X_train.shape)  # (배치, 4, 26)\n",
    "print(\"y_train.shape:\", y_train.shape)  # (배치, 1)\n",
    "\n",
    "# =======================================\n",
    "# 3) TFT 모델 정의\n",
    "# =======================================\n",
    "class GatedResidualNetwork(tf.keras.layers.Layer):\n",
    "    def __init__(self, input_dim, state_size, dropout_rate):\n",
    "        super(GatedResidualNetwork, self).__init__()\n",
    "        self.dense1 = Dense(state_size, activation=\"relu\")\n",
    "        self.dense2 = Dense(input_dim)\n",
    "        self.gate = Dense(input_dim, activation=\"sigmoid\")\n",
    "        self.layer_norm = LayerNormalization()\n",
    "        self.dropout = Dropout(dropout_rate)\n",
    "\n",
    "    def call(self, inputs):\n",
    "        x = self.dense1(inputs)\n",
    "        x = self.dropout(x)\n",
    "        x = self.dense2(x)\n",
    "        gate_output = self.gate(inputs)\n",
    "        gated_output = x * gate_output + inputs\n",
    "        return self.layer_norm(gated_output)\n",
    "\n",
    "class TFTModel(Model):\n",
    "    def __init__(self, seq_length, feature_dim, num_heads, ff_dim, state_size, dropout_rate):\n",
    "        super(TFTModel, self).__init__()\n",
    "        self.multi_head_attention = MultiHeadAttention(num_heads=num_heads, key_dim=feature_dim)\n",
    "        self.layer_norm1 = LayerNormalization()\n",
    "        self.grn1 = GatedResidualNetwork(feature_dim, state_size, dropout_rate)\n",
    "        self.grn2 = GatedResidualNetwork(feature_dim, state_size, dropout_rate)\n",
    "        self.flatten = Flatten()\n",
    "        self.dense1 = Dense(state_size, activation=\"relu\")\n",
    "        self.dropout1 = Dropout(dropout_rate)\n",
    "        self.dense2 = Dense(state_size // 4, activation=\"relu\")\n",
    "        self.dense3 = Dense(1, activation=\"linear\")\n",
    "\n",
    "    def call(self, inputs):\n",
    "        # inputs: (batch, seq_length, feature_dim)\n",
    "        attn_output = self.multi_head_attention(inputs, inputs)\n",
    "        out1 = self.layer_norm1(inputs + attn_output)\n",
    "        out1 = self.grn1(out1)\n",
    "        out2 = self.grn2(out1)\n",
    "        flat_output = self.flatten(out2)\n",
    "        dense_output1 = self.dense1(flat_output)\n",
    "        drop_output1 = self.dropout1(dense_output1)\n",
    "        dense_output2 = self.dense2(drop_output1)\n",
    "        return self.dense3(dense_output2)\n",
    "\n",
    "# =======================================\n",
    "# 4) 모델 컴파일 및 학습\n",
    "# =======================================\n",
    "state_size = 80\n",
    "dropout_rate = 0.2\n",
    "minibatch_size = 128\n",
    "learning_rate = 0.01\n",
    "max_gradient_norm = 0.01\n",
    "num_heads = 1\n",
    "ff_dim = 32\n",
    "\n",
    "tf.keras.backend.clear_session()\n",
    "model = TFTModel(seq_length=seq_length,\n",
    "                 feature_dim=X_train.shape[2],\n",
    "                 num_heads=num_heads,\n",
    "                 ff_dim=ff_dim,\n",
    "                 state_size=state_size,\n",
    "                 dropout_rate=dropout_rate)\n",
    "\n",
    "optimizer = tf.keras.optimizers.Adam(learning_rate=learning_rate, clipnorm=max_gradient_norm)\n",
    "model.compile(loss=\"mse\", optimizer=optimizer, metrics=[\"mse\", \"mae\"])\n",
    "\n",
    "early_stopping = EarlyStopping(monitor='val_loss', patience=10, restore_best_weights=True)\n",
    "\n",
    "model.fit(X_train, y_train,\n",
    "          epochs=50,\n",
    "          batch_size=minibatch_size,\n",
    "          validation_split=0.2,\n",
    "          verbose=1,\n",
    "          callbacks=[early_stopping])\n",
    "\n",
    "# =======================================\n",
    "# 5) SHAP 계산\n",
    "#    - Flatten (N, 4, 26) → (N, 104)\n",
    "#    - KernelExplainer 사용\n",
    "# =======================================\n",
    "X_flatten = X_train.reshape(X_train.shape[0], -1)  # (N, 104)\n",
    "\n",
    "def model_predict(X_flatten_input):\n",
    "    # (N, 104) → (N, 4, 26)\n",
    "    X_reshaped = X_flatten_input.reshape((-1, seq_length, X_train.shape[2]))\n",
    "    pred = model.predict(X_reshaped)\n",
    "    return pred.flatten()\n",
    "\n",
    "explainer = shap.KernelExplainer(model_predict, X_flatten)\n",
    "shap_values = explainer.shap_values(X_flatten)  # (N, 104)일 것\n",
    "\n",
    "# single-output → shap_values가 list인 경우 처리\n",
    "if isinstance(shap_values, list):\n",
    "    shap_values = shap_values[0]\n",
    "\n",
    "print(\"shap_values.shape:\", shap_values.shape)  # (N, 104)\n",
    "\n",
    "# =======================================\n",
    "# 6) 시점별 SHAP을 \"피처 단위\"로 환원 (104 → 26)\n",
    "# =======================================\n",
    "N = shap_values.shape[0]  # 배치 크기\n",
    "seq_length = 4            # 시점\n",
    "num_features = 26         # 원본 피처 수\n",
    "\n",
    "# (N, 104) → (N, 4, 26)\n",
    "shap_3d = shap_values.reshape(N, seq_length, num_features)\n",
    "\n",
    "# 시점 평균 → (N, 26)\n",
    "shap_mean = np.mean(shap_3d, axis=1)\n",
    "print(\"shap_mean.shape:\", shap_mean.shape)  # (N, 26)\n",
    "\n",
    "# =======================================\n",
    "# 7) 시각화용 X도 (N, 26)으로 맞춤\n",
    "#    - 예: X_train.mean(axis=1) 시점 평균\n",
    "# =======================================\n",
    "# (N, 4, 26) → (N, 26)\n",
    "X_train_2d = X_train.mean(axis=1)\n",
    "print(\"X_train_2d.shape:\", X_train_2d.shape)  # (N, 26)\n",
    "\n",
    "# =======================================\n",
    "# 8) SHAP Summary Plot\n",
    "# =======================================\n",
    "# 여기서 features는 26개 원래 피처 이름\n",
    "print(\"len(features):\", len(features))  # 26\n",
    "\n",
    "shap.summary_plot(shap_mean, X_train_2d, feature_names=features)\n"
   ]
  },
  {
   "cell_type": "code",
   "execution_count": 16,
   "metadata": {},
   "outputs": [
    {
     "name": "stdout",
     "output_type": "stream",
     "text": [
      "shap_values.shape: (74, 104)\n",
      "shap_values.shape[1]: 104\n",
      "len(feature_names): 26\n"
     ]
    }
   ],
   "source": [
    "print(\"shap_values.shape:\", shap_values.shape)  # 예: (1000, 40)\n",
    "print(\"shap_values.shape[1]:\", shap_values.shape[1])  # 예: 40\n",
    "print(\"len(feature_names):\", len(features))"
   ]
  }
 ],
 "metadata": {
  "kernelspec": {
   "display_name": "Python 3",
   "language": "python",
   "name": "python3"
  },
  "language_info": {
   "codemirror_mode": {
    "name": "ipython",
    "version": 3
   },
   "file_extension": ".py",
   "mimetype": "text/x-python",
   "name": "python",
   "nbconvert_exporter": "python",
   "pygments_lexer": "ipython3",
   "version": "3.11.3"
  }
 },
 "nbformat": 4,
 "nbformat_minor": 2
}
